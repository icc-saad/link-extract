{
 "cells": [
  {
   "cell_type": "code",
   "execution_count": 1,
   "metadata": {},
   "outputs": [],
   "source": [
    "import pandas as pd \n",
    "import requests\n",
    "from bs4 import BeautifulSoup\n",
    "from html.parser import HTMLParser"
   ]
  },
  {
   "cell_type": "code",
   "execution_count": 2,
   "metadata": {},
   "outputs": [],
   "source": [
    "doc_url = '''\n",
    "https://popp.undp.org/UNDP_POPP_DOCUMENT_LIBRARY/Public/UN Staff Rules and Regulations.docx\n",
    "https://popp.undp.org/UNDP_POPP_DOCUMENT_LIBRARY/Public/AC_Accountability_Information Disclosure.docx\n",
    "https://popp.undp.org/UNDP_POPP_DOCUMENT_LIBRARY/Public/AC_Accountability_Internal Control Framework_Operational Guide.docx\n",
    "'''.split('\\n')\n",
    "\n",
    "pdf_url = '''\n",
    "https://popp.undp.org/UNDP_POPP_DOCUMENT_LIBRARY/Public/UNDP Financial Regulations and Rules 5.7.pdf\n",
    "https://popp.undp.org/UNDP_POPP_DOCUMENT_LIBRARY/Public/Engagement with NGOs under Country Based Pooled Funds (French).pdf\n",
    "https://popp.undp.org/UNDP_POPP_DOCUMENT_LIBRARY/Public/HR_Insurance Plans_MIP Cigna Refund Claim Form (AR).pdf\n",
    "https://popp.undp.org/UNDP_POPP_DOCUMENT_LIBRARY/Public/HR_Insurance Plans_MIP Cigna Prior Approval Form (AR).pdf\n",
    "https://popp.undp.org/UNDP_POPP_DOCUMENT_LIBRARY/Public/HR_Service Contracts (SC)_UN-Outsourcing and Impact on Staff (2005).pdf\n",
    "https://popp.undp.org/UNDP_POPP_DOCUMENT_LIBRARY/Public/HR_Standards of Conduct_Status Basic Rights and Duties of United Nations Staff Members (2002).pdf\n",
    "https://popp.undp.org/UNDP_POPP_DOCUMENT_LIBRARY/Public/FRM_Cost_Recovery_Full_Visual_Guide.pdf\n",
    "https://popp.undp.org/UNDP_POPP_DOCUMENT_LIBRARY/Public/SO_Framework of Accountability Explainer.pdf\n",
    "'''.split('\\n')\n",
    "\n",
    "ppt_url = '''\n",
    "https://popp.undp.org/UNDP_POPP_DOCUMENT_LIBRARY/Public/PPM_SOP_Project_Origination_and_Integrated_Programming.pptx\n",
    "https://popp.undp.org/UNDP_POPP_DOCUMENT_LIBRARY/Public/PPM_Governance arrangements GEF-GCF Project Documents.pptx\n",
    "https://popp.undp.org/UNDP_POPP_DOCUMENT_LIBRARY/Public/Pipeline_Management_2014_06.pptx\n",
    "https://popp.undp.org/UNDP_POPP_DOCUMENT_LIBRARY/Public/FRM_Financial Operations Management_Revenue Management Better Practice Guide070306.ppt\n",
    "https://popp.undp.org/UNDP_POPP_DOCUMENT_LIBRARY/Public/Atlas Contract Management Module User Guide.pptx\n",
    "https://popp.undp.org/UNDP_POPP_DOCUMENT_LIBRARY/Public/PPM_Project Management_Pipeline Management.pptx\n",
    "https://popp.undp.org/UNDP_POPP_DOCUMENT_LIBRARY/Public/FRM_Resource Planning and Cost Recovery_Cost Recovery_GMSvsDPC.pptx\n",
    "'''.split('\\n')\n",
    "\n",
    "xls_url = '''\n",
    "https://popp.undp.org/UNDP_POPP_DOCUMENT_LIBRARY/Public/PPM_GEF-Funded Projects_Roles and Accountability_RACI Matrix.xlsx\n",
    "https://popp.undp.org/UNDP_POPP_DOCUMENT_LIBRARY/Public/PSU_Evaluation of Offers_Copy of Preliminary Examination Template - for RFPs and ITBs.xlsx\n",
    "https://popp.undp.org/UNDP_POPP_DOCUMENT_LIBRARY/Public/PSU_RFP-Evaluation-Tool_S.xlsx\n",
    "https://popp.undp.org/UNDP_POPP_DOCUMENT_LIBRARY/Public/Admin Services_05-Funding-model-01D.xlsx\n",
    "https://popp.undp.org/UNDP_POPP_DOCUMENT_LIBRARY/Public/PSU_Evaluation of Offers_Copy of Preliminary Examination Template - for RFPs and ITBs_FR.xlsx\n",
    "https://popp.undp.org/UNDP_POPP_DOCUMENT_LIBRARY/Public/FRM_Annex 1_DRAFT-2015_Modified Template CERTIFICATION of Common Services.xlsx\n",
    "'''.split('\\n')"
   ]
  },
  {
   "cell_type": "code",
   "execution_count": 3,
   "metadata": {},
   "outputs": [],
   "source": [
    "extract_endpoint = 'https://docanalyze.azurewebsites.net/api/ExtractText'"
   ]
  },
  {
   "cell_type": "code",
   "execution_count": 20,
   "metadata": {},
   "outputs": [],
   "source": [
    "def get_links(html):\n",
    "    soup = BeautifulSoup(html)\n",
    "    result = []\n",
    "    links = soup.find_all('a')\n",
    "    # print(links[:3])\n",
    "    for link in links:\n",
    "        meta_doc = {}\n",
    "        url = link.get('href')\n",
    "        if not url:\n",
    "            continue\n",
    "        link_str = link.string\n",
    "        meta_doc = {'Link URL': url, 'Link Name': link_str}\n",
    "        if 'popp.undp.org' in url:\n",
    "            meta_doc.update({'Link Category': 'POPP'})\n",
    "        elif 'intranet.undp.org' in url:\n",
    "            meta_doc.update({'Link Category': 'Intranet'})\n",
    "        elif 'content.undp.org' in url:\n",
    "            meta_doc.update({'Link Category': 'UNDP System'})\n",
    "        elif 'mailto:' in url:\n",
    "            meta_doc.update({'Link Category': 'e-mail address'})\n",
    "        else:\n",
    "             meta_doc.update({'Link Category': 'Other'})\n",
    "\n",
    "        result.append(meta_doc)\n",
    "    return result\n",
    "\n",
    "def process(url):\n",
    "    r = requests.get(extract_endpoint, params={'url': url, 'htmlFlag': True})\n",
    "    html = r.text\n",
    "    print('extract http status: ', r.status_code)\n",
    "    print('HTML: ', html[:300])\n",
    "    result = get_links(html=html)\n",
    "    # print(result[0])\n",
    "    link_df = pd.DataFrame(result)\n",
    "    fileName = url.split('/')[-1]\n",
    "    link_df['FileName'] = fileName\n",
    "    return link_df"
   ]
  },
  {
   "cell_type": "markdown",
   "metadata": {},
   "source": [
    "# Try Word Document"
   ]
  },
  {
   "cell_type": "code",
   "execution_count": 21,
   "metadata": {},
   "outputs": [
    {
     "name": "stdout",
     "output_type": "stream",
     "text": [
      "extract http status:  200\n",
      "HTML:  <html xmlns=\"http://www.w3.org/1999/xhtml\">\n",
      "<head>\n",
      "<meta name=\"date\" content=\"2022-10-04T20:09:00Z\" />\n",
      "<meta name=\"Total-Time\" content=\"2\" />\n",
      "<meta name=\"extended-properties:AppVersion\" content=\"16.0000\" />\n",
      "<meta name=\"meta:paragraph-count\" content=\"558\" />\n",
      "<meta name=\"custom:ODSRefJobNo\" content=\"1\n"
     ]
    },
    {
     "data": {
      "text/html": [
       "<div>\n",
       "<style scoped>\n",
       "    .dataframe tbody tr th:only-of-type {\n",
       "        vertical-align: middle;\n",
       "    }\n",
       "\n",
       "    .dataframe tbody tr th {\n",
       "        vertical-align: top;\n",
       "    }\n",
       "\n",
       "    .dataframe thead th {\n",
       "        text-align: right;\n",
       "    }\n",
       "</style>\n",
       "<table border=\"1\" class=\"dataframe\">\n",
       "  <thead>\n",
       "    <tr style=\"text-align: right;\">\n",
       "      <th></th>\n",
       "      <th>Link URL</th>\n",
       "      <th>Link Name</th>\n",
       "      <th>Link Category</th>\n",
       "      <th>FileName</th>\n",
       "    </tr>\n",
       "  </thead>\n",
       "  <tbody>\n",
       "    <tr>\n",
       "      <th>0</th>\n",
       "      <td>https://undocs.org/A/RES/72/254</td>\n",
       "      <td>72/254</td>\n",
       "      <td>Other</td>\n",
       "      <td>UN Staff Rules and Regulations.docx</td>\n",
       "    </tr>\n",
       "    <tr>\n",
       "      <th>1</th>\n",
       "      <td>https://undocs.org/A/RES/70/244</td>\n",
       "      <td>70/244</td>\n",
       "      <td>Other</td>\n",
       "      <td>UN Staff Rules and Regulations.docx</td>\n",
       "    </tr>\n",
       "    <tr>\n",
       "      <th>2</th>\n",
       "      <td>https://undocs.org/A/RES/70/244</td>\n",
       "      <td>70/244</td>\n",
       "      <td>Other</td>\n",
       "      <td>UN Staff Rules and Regulations.docx</td>\n",
       "    </tr>\n",
       "    <tr>\n",
       "      <th>3</th>\n",
       "      <td>https://undocs.org/A/RES/70/244</td>\n",
       "      <td>70/244</td>\n",
       "      <td>Other</td>\n",
       "      <td>UN Staff Rules and Regulations.docx</td>\n",
       "    </tr>\n",
       "    <tr>\n",
       "      <th>4</th>\n",
       "      <td>https://undocs.org/en/A/RES/73/273</td>\n",
       "      <td>73/273</td>\n",
       "      <td>Other</td>\n",
       "      <td>UN Staff Rules and Regulations.docx</td>\n",
       "    </tr>\n",
       "  </tbody>\n",
       "</table>\n",
       "</div>"
      ],
      "text/plain": [
       "                             Link URL Link Name Link Category  \\\n",
       "0     https://undocs.org/A/RES/72/254    72/254         Other   \n",
       "1     https://undocs.org/A/RES/70/244    70/244         Other   \n",
       "2     https://undocs.org/A/RES/70/244    70/244         Other   \n",
       "3     https://undocs.org/A/RES/70/244    70/244         Other   \n",
       "4  https://undocs.org/en/A/RES/73/273    73/273         Other   \n",
       "\n",
       "                              FileName  \n",
       "0  UN Staff Rules and Regulations.docx  \n",
       "1  UN Staff Rules and Regulations.docx  \n",
       "2  UN Staff Rules and Regulations.docx  \n",
       "3  UN Staff Rules and Regulations.docx  \n",
       "4  UN Staff Rules and Regulations.docx  "
      ]
     },
     "execution_count": 21,
     "metadata": {},
     "output_type": "execute_result"
    }
   ],
   "source": [
    "url = 'https://popp.undp.org/UNDP_POPP_DOCUMENT_LIBRARY/Public/UN Staff Rules and Regulations.docx'\n",
    "df = process(url)\n",
    "df.head()"
   ]
  },
  {
   "cell_type": "code",
   "execution_count": 22,
   "metadata": {},
   "outputs": [
    {
     "data": {
      "text/html": [
       "<div>\n",
       "<style scoped>\n",
       "    .dataframe tbody tr th:only-of-type {\n",
       "        vertical-align: middle;\n",
       "    }\n",
       "\n",
       "    .dataframe tbody tr th {\n",
       "        vertical-align: top;\n",
       "    }\n",
       "\n",
       "    .dataframe thead th {\n",
       "        text-align: right;\n",
       "    }\n",
       "</style>\n",
       "<table border=\"1\" class=\"dataframe\">\n",
       "  <thead>\n",
       "    <tr style=\"text-align: right;\">\n",
       "      <th></th>\n",
       "      <th>Link Category</th>\n",
       "    </tr>\n",
       "  </thead>\n",
       "  <tbody>\n",
       "    <tr>\n",
       "      <th>Other</th>\n",
       "      <td>88</td>\n",
       "    </tr>\n",
       "  </tbody>\n",
       "</table>\n",
       "</div>"
      ],
      "text/plain": [
       "       Link Category\n",
       "Other             88"
      ]
     },
     "execution_count": 22,
     "metadata": {},
     "output_type": "execute_result"
    }
   ],
   "source": [
    "df['Link Category'].value_counts().to_frame()"
   ]
  },
  {
   "cell_type": "markdown",
   "metadata": {},
   "source": [
    "# Try PDF"
   ]
  },
  {
   "cell_type": "code",
   "execution_count": 25,
   "metadata": {},
   "outputs": [
    {
     "name": "stdout",
     "output_type": "stream",
     "text": [
      "extract http status:  200\n",
      "HTML:  <html xmlns=\"http://www.w3.org/1999/xhtml\">\n",
      "<head>\n",
      "<meta name=\"date\" content=\"2022-03-23T13:37:42Z\" />\n",
      "<meta name=\"pdf:PDFVersion\" content=\"1.7\" />\n",
      "<meta name=\"xmp:CreatorTool\" content=\"Adobe InDesign 17.1 (Windows)\" />\n",
      "<meta name=\"pdf:hasXFA\" content=\"false\" />\n",
      "<meta name=\"access_permission:modify_\n"
     ]
    },
    {
     "data": {
      "text/html": [
       "<div>\n",
       "<style scoped>\n",
       "    .dataframe tbody tr th:only-of-type {\n",
       "        vertical-align: middle;\n",
       "    }\n",
       "\n",
       "    .dataframe tbody tr th {\n",
       "        vertical-align: top;\n",
       "    }\n",
       "\n",
       "    .dataframe thead th {\n",
       "        text-align: right;\n",
       "    }\n",
       "</style>\n",
       "<table border=\"1\" class=\"dataframe\">\n",
       "  <thead>\n",
       "    <tr style=\"text-align: right;\">\n",
       "      <th></th>\n",
       "      <th>Link URL</th>\n",
       "      <th>Link Name</th>\n",
       "      <th>Link Category</th>\n",
       "      <th>FileName</th>\n",
       "    </tr>\n",
       "  </thead>\n",
       "  <tbody>\n",
       "    <tr>\n",
       "      <th>0</th>\n",
       "      <td>#nameddest=DESPlan</td>\n",
       "      <td>#nameddest=DESPlan</td>\n",
       "      <td>Other</td>\n",
       "      <td>FRM_Cost_Recovery_Full_Visual_Guide.pdf</td>\n",
       "    </tr>\n",
       "    <tr>\n",
       "      <th>1</th>\n",
       "      <td>#nameddest=DESImplement</td>\n",
       "      <td>#nameddest=DESImplement</td>\n",
       "      <td>Other</td>\n",
       "      <td>FRM_Cost_Recovery_Full_Visual_Guide.pdf</td>\n",
       "    </tr>\n",
       "    <tr>\n",
       "      <th>2</th>\n",
       "      <td>#nameddest=DESMonitor</td>\n",
       "      <td>#nameddest=DESMonitor</td>\n",
       "      <td>Other</td>\n",
       "      <td>FRM_Cost_Recovery_Full_Visual_Guide.pdf</td>\n",
       "    </tr>\n",
       "    <tr>\n",
       "      <th>3</th>\n",
       "      <td>#nameddest=GMSPlan</td>\n",
       "      <td>#nameddest=GMSPlan</td>\n",
       "      <td>Other</td>\n",
       "      <td>FRM_Cost_Recovery_Full_Visual_Guide.pdf</td>\n",
       "    </tr>\n",
       "    <tr>\n",
       "      <th>4</th>\n",
       "      <td>#nameddest=GMSImplement</td>\n",
       "      <td>#nameddest=GMSImplement</td>\n",
       "      <td>Other</td>\n",
       "      <td>FRM_Cost_Recovery_Full_Visual_Guide.pdf</td>\n",
       "    </tr>\n",
       "  </tbody>\n",
       "</table>\n",
       "</div>"
      ],
      "text/plain": [
       "                  Link URL                Link Name Link Category  \\\n",
       "0       #nameddest=DESPlan       #nameddest=DESPlan         Other   \n",
       "1  #nameddest=DESImplement  #nameddest=DESImplement         Other   \n",
       "2    #nameddest=DESMonitor    #nameddest=DESMonitor         Other   \n",
       "3       #nameddest=GMSPlan       #nameddest=GMSPlan         Other   \n",
       "4  #nameddest=GMSImplement  #nameddest=GMSImplement         Other   \n",
       "\n",
       "                                  FileName  \n",
       "0  FRM_Cost_Recovery_Full_Visual_Guide.pdf  \n",
       "1  FRM_Cost_Recovery_Full_Visual_Guide.pdf  \n",
       "2  FRM_Cost_Recovery_Full_Visual_Guide.pdf  \n",
       "3  FRM_Cost_Recovery_Full_Visual_Guide.pdf  \n",
       "4  FRM_Cost_Recovery_Full_Visual_Guide.pdf  "
      ]
     },
     "execution_count": 25,
     "metadata": {},
     "output_type": "execute_result"
    }
   ],
   "source": [
    "url = 'https://popp.undp.org/UNDP_POPP_DOCUMENT_LIBRARY/Public/FRM_Cost_Recovery_Full_Visual_Guide.pdf'\n",
    "df = process(url)\n",
    "df.head()"
   ]
  },
  {
   "cell_type": "code",
   "execution_count": 27,
   "metadata": {},
   "outputs": [
    {
     "data": {
      "text/html": [
       "<div>\n",
       "<style scoped>\n",
       "    .dataframe tbody tr th:only-of-type {\n",
       "        vertical-align: middle;\n",
       "    }\n",
       "\n",
       "    .dataframe tbody tr th {\n",
       "        vertical-align: top;\n",
       "    }\n",
       "\n",
       "    .dataframe thead th {\n",
       "        text-align: right;\n",
       "    }\n",
       "</style>\n",
       "<table border=\"1\" class=\"dataframe\">\n",
       "  <thead>\n",
       "    <tr style=\"text-align: right;\">\n",
       "      <th></th>\n",
       "      <th>Link URL</th>\n",
       "      <th>Link Name</th>\n",
       "      <th>Link Category</th>\n",
       "      <th>FileName</th>\n",
       "    </tr>\n",
       "  </thead>\n",
       "  <tbody>\n",
       "    <tr>\n",
       "      <th>56</th>\n",
       "      <td>https://finance.partneragencies.org/psp/UNDPP1...</td>\n",
       "      <td>https://finance.partneragencies.org/psp/UNDPP1...</td>\n",
       "      <td>Other</td>\n",
       "      <td>FRM_Cost_Recovery_Full_Visual_Guide.pdf</td>\n",
       "    </tr>\n",
       "    <tr>\n",
       "      <th>57</th>\n",
       "      <td>https://popp.undp.org/_layouts/15/WopiFrame.as...</td>\n",
       "      <td>https://popp.undp.org/_layouts/15/WopiFrame.as...</td>\n",
       "      <td>POPP</td>\n",
       "      <td>FRM_Cost_Recovery_Full_Visual_Guide.pdf</td>\n",
       "    </tr>\n",
       "    <tr>\n",
       "      <th>58</th>\n",
       "      <td>https://popp.undp.org/SitePages/POPPSubject.as...</td>\n",
       "      <td>https://popp.undp.org/SitePages/POPPSubject.as...</td>\n",
       "      <td>POPP</td>\n",
       "      <td>FRM_Cost_Recovery_Full_Visual_Guide.pdf</td>\n",
       "    </tr>\n",
       "    <tr>\n",
       "      <th>59</th>\n",
       "      <td>https://undp.sharepoint.com/sites/UNAgencies/S...</td>\n",
       "      <td>https://undp.sharepoint.com/sites/UNAgencies/S...</td>\n",
       "      <td>Other</td>\n",
       "      <td>FRM_Cost_Recovery_Full_Visual_Guide.pdf</td>\n",
       "    </tr>\n",
       "    <tr>\n",
       "      <th>60</th>\n",
       "      <td>https://popp.undp.org/_layouts/15/WopiFrame.as...</td>\n",
       "      <td>https://popp.undp.org/_layouts/15/WopiFrame.as...</td>\n",
       "      <td>POPP</td>\n",
       "      <td>FRM_Cost_Recovery_Full_Visual_Guide.pdf</td>\n",
       "    </tr>\n",
       "  </tbody>\n",
       "</table>\n",
       "</div>"
      ],
      "text/plain": [
       "                                             Link URL  \\\n",
       "56  https://finance.partneragencies.org/psp/UNDPP1...   \n",
       "57  https://popp.undp.org/_layouts/15/WopiFrame.as...   \n",
       "58  https://popp.undp.org/SitePages/POPPSubject.as...   \n",
       "59  https://undp.sharepoint.com/sites/UNAgencies/S...   \n",
       "60  https://popp.undp.org/_layouts/15/WopiFrame.as...   \n",
       "\n",
       "                                            Link Name Link Category  \\\n",
       "56  https://finance.partneragencies.org/psp/UNDPP1...         Other   \n",
       "57  https://popp.undp.org/_layouts/15/WopiFrame.as...          POPP   \n",
       "58  https://popp.undp.org/SitePages/POPPSubject.as...          POPP   \n",
       "59  https://undp.sharepoint.com/sites/UNAgencies/S...         Other   \n",
       "60  https://popp.undp.org/_layouts/15/WopiFrame.as...          POPP   \n",
       "\n",
       "                                   FileName  \n",
       "56  FRM_Cost_Recovery_Full_Visual_Guide.pdf  \n",
       "57  FRM_Cost_Recovery_Full_Visual_Guide.pdf  \n",
       "58  FRM_Cost_Recovery_Full_Visual_Guide.pdf  \n",
       "59  FRM_Cost_Recovery_Full_Visual_Guide.pdf  \n",
       "60  FRM_Cost_Recovery_Full_Visual_Guide.pdf  "
      ]
     },
     "execution_count": 27,
     "metadata": {},
     "output_type": "execute_result"
    }
   ],
   "source": [
    "df.tail()"
   ]
  },
  {
   "cell_type": "code",
   "execution_count": 26,
   "metadata": {},
   "outputs": [
    {
     "data": {
      "text/html": [
       "<div>\n",
       "<style scoped>\n",
       "    .dataframe tbody tr th:only-of-type {\n",
       "        vertical-align: middle;\n",
       "    }\n",
       "\n",
       "    .dataframe tbody tr th {\n",
       "        vertical-align: top;\n",
       "    }\n",
       "\n",
       "    .dataframe thead th {\n",
       "        text-align: right;\n",
       "    }\n",
       "</style>\n",
       "<table border=\"1\" class=\"dataframe\">\n",
       "  <thead>\n",
       "    <tr style=\"text-align: right;\">\n",
       "      <th></th>\n",
       "      <th>Link Category</th>\n",
       "    </tr>\n",
       "  </thead>\n",
       "  <tbody>\n",
       "    <tr>\n",
       "      <th>POPP</th>\n",
       "      <td>29</td>\n",
       "    </tr>\n",
       "    <tr>\n",
       "      <th>Other</th>\n",
       "      <td>17</td>\n",
       "    </tr>\n",
       "    <tr>\n",
       "      <th>Intranet</th>\n",
       "      <td>14</td>\n",
       "    </tr>\n",
       "    <tr>\n",
       "      <th>e-mail address</th>\n",
       "      <td>1</td>\n",
       "    </tr>\n",
       "  </tbody>\n",
       "</table>\n",
       "</div>"
      ],
      "text/plain": [
       "                Link Category\n",
       "POPP                       29\n",
       "Other                      17\n",
       "Intranet                   14\n",
       "e-mail address              1"
      ]
     },
     "execution_count": 26,
     "metadata": {},
     "output_type": "execute_result"
    }
   ],
   "source": [
    "df['Link Category'].value_counts().to_frame()"
   ]
  },
  {
   "cell_type": "markdown",
   "metadata": {},
   "source": [
    "# Try PPT "
   ]
  },
  {
   "cell_type": "code",
   "execution_count": 30,
   "metadata": {},
   "outputs": [
    {
     "name": "stdout",
     "output_type": "stream",
     "text": [
      "extract http status:  200\n",
      "HTML:  <html xmlns=\"http://www.w3.org/1999/xhtml\">\n",
      "<head>\n",
      "<meta name=\"date\" content=\"2017-01-18T02:15:22Z\" />\n",
      "<meta name=\"cp:revision\" content=\"1\" />\n",
      "<meta name=\"extended-properties:AppVersion\" content=\"16.0000\" />\n",
      "<meta name=\"extended-properties:PresentationFormat\" content=\"Letter Paper (8.5x11 in)\" />\n",
      "<m\n"
     ]
    },
    {
     "data": {
      "text/html": [
       "<div>\n",
       "<style scoped>\n",
       "    .dataframe tbody tr th:only-of-type {\n",
       "        vertical-align: middle;\n",
       "    }\n",
       "\n",
       "    .dataframe tbody tr th {\n",
       "        vertical-align: top;\n",
       "    }\n",
       "\n",
       "    .dataframe thead th {\n",
       "        text-align: right;\n",
       "    }\n",
       "</style>\n",
       "<table border=\"1\" class=\"dataframe\">\n",
       "  <thead>\n",
       "    <tr style=\"text-align: right;\">\n",
       "      <th></th>\n",
       "      <th>FileName</th>\n",
       "    </tr>\n",
       "  </thead>\n",
       "  <tbody>\n",
       "  </tbody>\n",
       "</table>\n",
       "</div>"
      ],
      "text/plain": [
       "Empty DataFrame\n",
       "Columns: [FileName]\n",
       "Index: []"
      ]
     },
     "execution_count": 30,
     "metadata": {},
     "output_type": "execute_result"
    }
   ],
   "source": [
    "url = 'https://popp.undp.org/UNDP_POPP_DOCUMENT_LIBRARY/Public/FRM_Resource Planning and Cost Recovery_Cost Recovery_GMSvsDPC.pptx'\n",
    "df = process(url)\n",
    "df.head()"
   ]
  },
  {
   "cell_type": "code",
   "execution_count": null,
   "metadata": {},
   "outputs": [],
   "source": [
    "df['Link Category'].value_counts().to_frame()"
   ]
  },
  {
   "cell_type": "markdown",
   "metadata": {},
   "source": [
    "# Try XLS"
   ]
  },
  {
   "cell_type": "code",
   "execution_count": 31,
   "metadata": {},
   "outputs": [
    {
     "name": "stdout",
     "output_type": "stream",
     "text": [
      "extract http status:  200\n",
      "HTML:  <html xmlns=\"http://www.w3.org/1999/xhtml\">\n",
      "<head>\n",
      "<meta name=\"date\" content=\"2012-03-01T21:39:38Z\" />\n",
      "<meta name=\"extended-properties:AppVersion\" content=\"14.0300\" />\n",
      "<meta name=\"dc:creator\" content=\"abdouramane.boureima\" />\n",
      "<meta name=\"meta:print-date\" content=\"2011-08-09T16:19:51Z\" />\n",
      "<meta name=\n"
     ]
    },
    {
     "data": {
      "text/html": [
       "<div>\n",
       "<style scoped>\n",
       "    .dataframe tbody tr th:only-of-type {\n",
       "        vertical-align: middle;\n",
       "    }\n",
       "\n",
       "    .dataframe tbody tr th {\n",
       "        vertical-align: top;\n",
       "    }\n",
       "\n",
       "    .dataframe thead th {\n",
       "        text-align: right;\n",
       "    }\n",
       "</style>\n",
       "<table border=\"1\" class=\"dataframe\">\n",
       "  <thead>\n",
       "    <tr style=\"text-align: right;\">\n",
       "      <th></th>\n",
       "      <th>FileName</th>\n",
       "    </tr>\n",
       "  </thead>\n",
       "  <tbody>\n",
       "  </tbody>\n",
       "</table>\n",
       "</div>"
      ],
      "text/plain": [
       "Empty DataFrame\n",
       "Columns: [FileName]\n",
       "Index: []"
      ]
     },
     "execution_count": 31,
     "metadata": {},
     "output_type": "execute_result"
    }
   ],
   "source": [
    "url = 'https://popp.undp.org/UNDP_POPP_DOCUMENT_LIBRARY/Public/PSU_RFP-Evaluation-Tool_S.xlsx'\n",
    "df = process(url)\n",
    "df.head()"
   ]
  }
 ],
 "metadata": {
  "kernelspec": {
   "display_name": "Python 3.10.4 ('text-extract')",
   "language": "python",
   "name": "python3"
  },
  "language_info": {
   "codemirror_mode": {
    "name": "ipython",
    "version": 3
   },
   "file_extension": ".py",
   "mimetype": "text/x-python",
   "name": "python",
   "nbconvert_exporter": "python",
   "pygments_lexer": "ipython3",
   "version": "3.10.4"
  },
  "orig_nbformat": 4,
  "vscode": {
   "interpreter": {
    "hash": "734de26732de8b95958960d2ca00474d6d14ba8570720d28331be5a1f80ef504"
   }
  }
 },
 "nbformat": 4,
 "nbformat_minor": 2
}
